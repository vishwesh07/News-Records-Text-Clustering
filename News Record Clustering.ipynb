{
 "cells": [
  {
   "cell_type": "code",
   "execution_count": 1,
   "metadata": {
    "collapsed": true
   },
   "outputs": [],
   "source": [
    "from copy import deepcopy"
   ]
  },
  {
   "cell_type": "code",
   "execution_count": 2,
   "metadata": {
    "collapsed": true
   },
   "outputs": [],
   "source": [
    "import numpy as np\n",
    "import pandas as pd\n",
    "import matplotlib.pyplot as plt\n",
    "from scipy.sparse import csr_matrix\n",
    "from collections import defaultdict\n",
    "\n",
    "with open('train.dat','r') as f1:\n",
    "    data = []\n",
    "    for line in f1:\n",
    "        data.append(line)\n",
    "        \n",
    "ptr = [0]\n",
    "ind = []\n",
    "val = []"
   ]
  },
  {
   "cell_type": "code",
   "execution_count": 3,
   "metadata": {},
   "outputs": [
    {
     "data": {
      "text/plain": [
       "8580"
      ]
     },
     "execution_count": 3,
     "metadata": {},
     "output_type": "execute_result"
    }
   ],
   "source": [
    "len(data)"
   ]
  },
  {
   "cell_type": "code",
   "execution_count": 4,
   "metadata": {
    "collapsed": true
   },
   "outputs": [],
   "source": [
    "temp = []\n",
    "i = 0\n",
    "j = 0\n",
    "for doc in data:\n",
    "    for d in doc.split():\n",
    "        if j%2 == 0:\n",
    "            ind.append(d)\n",
    "        else:\n",
    "            val.append(d)\n",
    "        j += 1\n",
    "    ptr.append(int(ptr[i] + len(doc.split())/2))\n",
    "    temp.append(doc.split())\n",
    "    i += 1"
   ]
  },
  {
   "cell_type": "code",
   "execution_count": 6,
   "metadata": {},
   "outputs": [
    {
     "data": {
      "text/plain": [
       "'99996'"
      ]
     },
     "execution_count": 6,
     "metadata": {},
     "output_type": "execute_result"
    }
   ],
   "source": [
    "max(ind)"
   ]
  },
  {
   "cell_type": "code",
   "execution_count": 7,
   "metadata": {},
   "outputs": [
    {
     "data": {
      "text/plain": [
       "27673"
      ]
     },
     "execution_count": 7,
     "metadata": {},
     "output_type": "execute_result"
    }
   ],
   "source": [
    "len(list(set(ind)))"
   ]
  },
  {
   "cell_type": "code",
   "execution_count": 8,
   "metadata": {
    "collapsed": true
   },
   "outputs": [],
   "source": [
    "ind_unique_list = list(set(ind))"
   ]
  },
  {
   "cell_type": "code",
   "execution_count": 9,
   "metadata": {
    "collapsed": true
   },
   "outputs": [],
   "source": [
    "idx = {}\n",
    "tid = 0\n",
    "for i in ind_unique_list:\n",
    "    if i not in idx:\n",
    "        idx[int(i)] = tid\n",
    "        tid += 1\n",
    "# print(idx)\n",
    "# for key in idx:\n",
    "#     if int(key) > 100000:\n",
    "#         print(\"\\\\ \",key,\":\", idx[key], \"\\\\\")\n",
    "nind = []\n",
    "for j in ind:\n",
    "    temp = idx[int(j)]\n",
    "#     print(j,\":\",temp)\n",
    "    nind.append(temp)\n",
    "# for i in range(0,10):\n",
    "#     print(ind[i], \":\", nind[i])"
   ]
  },
  {
   "cell_type": "code",
   "execution_count": 10,
   "metadata": {},
   "outputs": [
    {
     "name": "stdout",
     "output_type": "stream",
     "text": [
      "27672\n"
     ]
    }
   ],
   "source": [
    "print(max(nind))"
   ]
  },
  {
   "cell_type": "code",
   "execution_count": 11,
   "metadata": {},
   "outputs": [
    {
     "data": {
      "text/plain": [
       "1107980"
      ]
     },
     "execution_count": 11,
     "metadata": {},
     "output_type": "execute_result"
    }
   ],
   "source": [
    "len(ind)"
   ]
  },
  {
   "cell_type": "code",
   "execution_count": 4,
   "metadata": {},
   "outputs": [],
   "source": [
    "len(ptr)"
   ]
  },
  {
   "cell_type": "code",
   "execution_count": 13,
   "metadata": {},
   "outputs": [
    {
     "name": "stdout",
     "output_type": "stream",
     "text": [
      "ptr 8581\n",
      "ind 1107980\n",
      "val 1107980\n"
     ]
    }
   ],
   "source": [
    "print(\"ptr\", len(ptr))\n",
    "print(\"ind\", len(ind))\n",
    "print(\"val\", len(val))"
   ]
  },
  {
   "cell_type": "code",
   "execution_count": 14,
   "metadata": {},
   "outputs": [
    {
     "name": "stdout",
     "output_type": "stream",
     "text": [
      "nrows 8580\n",
      "ncols 27673\n"
     ]
    }
   ],
   "source": [
    "nrows = len(data)\n",
    "ncols = len(set(ind))\n",
    "print(\"nrows\", nrows)\n",
    "print(\"ncols\", ncols)"
   ]
  },
  {
   "cell_type": "code",
   "execution_count": 15,
   "metadata": {
    "collapsed": true
   },
   "outputs": [],
   "source": [
    "# val = [float(i) for i in val]\n",
    "# ind = [float(i) for i in ind]\n",
    "# ptr = [float(i) for i in ptr]"
   ]
  },
  {
   "cell_type": "code",
   "execution_count": 16,
   "metadata": {
    "collapsed": true
   },
   "outputs": [],
   "source": [
    "mat = csr_matrix((val,nind,ptr), dtype=np.float32)"
   ]
  },
  {
   "cell_type": "code",
   "execution_count": 17,
   "metadata": {},
   "outputs": [
    {
     "data": {
      "text/plain": [
       "(8580, 27673)"
      ]
     },
     "execution_count": 17,
     "metadata": {},
     "output_type": "execute_result"
    }
   ],
   "source": [
    "mat.shape"
   ]
  },
  {
   "cell_type": "code",
   "execution_count": 18,
   "metadata": {
    "collapsed": true
   },
   "outputs": [],
   "source": [
    "mat.sort_indices()"
   ]
  },
  {
   "cell_type": "code",
   "execution_count": 36,
   "metadata": {},
   "outputs": [
    {
     "name": "stdout",
     "output_type": "stream",
     "text": [
      "[ 28.54665375  23.88935089  18.73949623  13.05046272  10.47562695\n",
      "   9.74541283   8.54499722   8.15892506   7.38706493   7.00987387\n",
      "   5.75184011   5.39787865   5.0911231    4.73107815   4.25241518\n",
      "   4.07760715   3.95115185   3.68479419   3.46208763   3.34218669\n",
      "   3.29928827   3.10895872   2.97940183   2.8574729    2.83005619\n",
      "   2.6961534    2.60226083   2.52415967   2.50381279   2.40452075]\n"
     ]
    },
    {
     "data": {
      "image/png": "[encoded data removed]",
      "text/plain": [
       "<matplotlib.figure.Figure at 0x23246b9c908>"
      ]
     },
     "metadata": {},
     "output_type": "display_data"
    }
   ],
   "source": [
    "from sklearn.decomposition import TruncatedSVD\n",
    "\n",
    "svd = TruncatedSVD(n_components=30, n_iter=10, random_state=42)\n",
    "reduced_mat = svd.fit_transform(mat)\n",
    "\n",
    "type(reduced_mat)\n",
    "\n",
    "comps = svd.explained_variance_\n",
    "print(comps)\n",
    "\n",
    "import matplotlib.pyplot as plt\n",
    "plt.plot(comps)\n",
    "plt.show()\n",
    "\n",
    "# copy_reduced = reduced_mat[...,1:]\n",
    "\n",
    "# copy_reduced.shape"
   ]
  },
  {
   "cell_type": "code",
   "execution_count": 21,
   "metadata": {},
   "outputs": [
    {
     "data": {
      "text/plain": [
       "numpy.ndarray"
      ]
     },
     "execution_count": 21,
     "metadata": {},
     "output_type": "execute_result"
    }
   ],
   "source": [
    "type(comps)"
   ]
  },
  {
   "cell_type": "code",
   "execution_count": 22,
   "metadata": {},
   "outputs": [
    {
     "name": "stdout",
     "output_type": "stream",
     "text": [
      "(8580, 8580)\n"
     ]
    }
   ],
   "source": [
    "from scipy.spatial.distance import pdist, squareform\n",
    "\n",
    "distance_matrix = pdist(reduced_mat, 'euclidean')\n",
    "dm = squareform(distance_matrix)\n",
    "# print(dm)\n",
    "print(dm.shape)\n",
    "tmp_dm = dm.copy()"
   ]
  },
  {
   "cell_type": "code",
   "execution_count": 23,
   "metadata": {},
   "outputs": [
    {
     "data": {
      "text/plain": [
       "array([[ 0.        ,  4.28023048,  5.09797531, ...,  5.5720757 ,\n",
       "         5.10596562,  4.51084545],\n",
       "       [ 4.28023048,  0.        ,  5.96606743, ...,  3.51353062,\n",
       "         3.13488224,  4.97994855],\n",
       "       [ 5.09797531,  5.96606743,  0.        , ...,  8.28875017,\n",
       "         7.85645754,  8.83708655],\n",
       "       ..., \n",
       "       [ 5.5720757 ,  3.51353062,  8.28875017, ...,  0.        ,\n",
       "         1.41758409,  4.0231601 ],\n",
       "       [ 5.10596562,  3.13488224,  7.85645754, ...,  1.41758409,\n",
       "         0.        ,  3.61565685],\n",
       "       [ 4.51084545,  4.97994855,  8.83708655, ...,  4.0231601 ,\n",
       "         3.61565685,  0.        ]])"
      ]
     },
     "execution_count": 23,
     "metadata": {},
     "output_type": "execute_result"
    }
   ],
   "source": [
    "tmp_dm"
   ]
  },
  {
   "cell_type": "code",
   "execution_count": 5,
   "metadata": {
    "collapsed": true
   },
   "outputs": [],
   "source": [
    "# Try normalization\n",
    "# c = 0\n",
    "# for row in tmp_dm:\n",
    "#     print(\"Dp -\", c)\n",
    "#     for dp in row:\n",
    "#         print(dp)\n",
    "#     c += 1\n",
    "#     print(\"\\n\\n\")"
   ]
  },
  {
   "cell_type": "code",
   "execution_count": 25,
   "metadata": {
    "collapsed": true
   },
   "outputs": [],
   "source": [
    "# from sklearn import preprocessing\n",
    "# dm = preprocessing.normalize(dm, norm='l2')"
   ]
  },
  {
   "cell_type": "code",
   "execution_count": 35,
   "metadata": {},
   "outputs": [
    {
     "data": {
      "image/png": "[encoded data removed]",
      "text/plain": [
       "<matplotlib.figure.Figure at 0x23246d72c18>"
      ]
     },
     "metadata": {},
     "output_type": "display_data"
    }
   ],
   "source": [
    "for row in dm:\n",
    "    row.sort()\n",
    "    \n",
    "fig = plt.figure()\n",
    "plt.rcParams[\"figure.figsize\"] = [15,10]\n",
    "\n",
    "tdm = []\n",
    "\n",
    "for i in range(3, 22):\n",
    "    r = sorted([row[i] for row in dm])\n",
    "    tdm.append(r)\n",
    "    plt.plot(r)\n",
    "    \n",
    "plt.legend([str(i) for i in range(3,23)])\n",
    "\n",
    "ax = fig.gca()\n",
    "ax.set_yticks(np.arange(0, 200, 5))\n",
    "ax.set_xticks(np.arange(0, 9000, 500))\n",
    "\n",
    "plt.grid(True)\n",
    "plt.show()"
   ]
  },
  {
   "cell_type": "code",
   "execution_count": 27,
   "metadata": {},
   "outputs": [
    {
     "data": {
      "text/plain": [
       "array([[ 0.        ,  4.28023048,  5.09797531, ...,  5.5720757 ,\n",
       "         5.10596562,  4.51084545],\n",
       "       [ 4.28023048,  0.        ,  5.96606743, ...,  3.51353062,\n",
       "         3.13488224,  4.97994855],\n",
       "       [ 5.09797531,  5.96606743,  0.        , ...,  8.28875017,\n",
       "         7.85645754,  8.83708655],\n",
       "       ..., \n",
       "       [ 5.5720757 ,  3.51353062,  8.28875017, ...,  0.        ,\n",
       "         1.41758409,  4.0231601 ],\n",
       "       [ 5.10596562,  3.13488224,  7.85645754, ...,  1.41758409,\n",
       "         0.        ,  3.61565685],\n",
       "       [ 4.51084545,  4.97994855,  8.83708655, ...,  4.0231601 ,\n",
       "         3.61565685,  0.        ]])"
      ]
     },
     "execution_count": 27,
     "metadata": {},
     "output_type": "execute_result"
    }
   ],
   "source": [
    "tmp_dm"
   ]
  },
  {
   "cell_type": "code",
   "execution_count": 36,
   "metadata": {
    "collapsed": true
   },
   "outputs": [],
   "source": [
    "c = 0 \n",
    "core_points = []\n",
    "for row in dm:\n",
    "    if row[12] <= 3.5:\n",
    "        core_points.append(c)\n",
    "    else:\n",
    "        pass\n",
    "    c += 1"
   ]
  },
  {
   "cell_type": "code",
   "execution_count": 37,
   "metadata": {},
   "outputs": [
    {
     "data": {
      "text/plain": [
       "6251"
      ]
     },
     "execution_count": 37,
     "metadata": {},
     "output_type": "execute_result"
    }
   ],
   "source": [
    "len(core_points)"
   ]
  },
  {
   "cell_type": "code",
   "execution_count": 39,
   "metadata": {
    "collapsed": true
   },
   "outputs": [],
   "source": [
    "clusters_dict = {}\n",
    "n = len(dm)\n",
    "points_added = [False for i in range(0,n)]"
   ]
  },
  {
   "cell_type": "code",
   "execution_count": 3,
   "metadata": {},
   "outputs": [],
   "source": [
    "len(core_points)"
   ]
  },
  {
   "cell_type": "code",
   "execution_count": null,
   "metadata": {
    "collapsed": true
   },
   "outputs": [],
   "source": [
    "t = 1\n",
    "n = len(tmp_dm)\n",
    "for row in tmp_dm:\n",
    "#     print(\"0. Exploring for -\", t-1)\n",
    "    if t-1 in core_points:\n",
    "        visited = points_added[t-1]\n",
    "#         print(\"1. Point visited at row level - visited status-\",visited)\n",
    "        if visited == False:\n",
    "            c = t\n",
    "            tmp = []\n",
    "#             print(\"\\t1.1.1. Explore from\",t,\"to\",n,\"for\",t-1)\n",
    "            for d in range(c,n):\n",
    "                temp = row[d]\n",
    "                visited = points_added[d]\n",
    "                con = d in core_points\n",
    "                if temp<=2.5 and con and visited == False:\n",
    "#                     print(\"\\t\\t1.1.2. For\",t-1,\"visited status -\",visited,\"- Point row[\",d,\"] - \", temp,\"is inside epsilon - 3.7\")\n",
    "                    tmp.append(d)\n",
    "                    points_added[d] = True \n",
    "#                     print(\"\\t\\t1.1.3. Added point\",d,\"with visited status -\",points_added[d],\" to cluster list for point-\",t-1)\n",
    "#                     print(\"\\t\\t1.1.4. Total cluster list till now -\",tmp)\n",
    "                else:\n",
    "                    pass\n",
    "            tmp.append(t-1)\n",
    "            key = \"cluster\"+str(t-1)\n",
    "            clusters_dict[key] =tmp\n",
    "#             print(\"\\t1.1.5.\",key,\"cluster added with core points-\",tmp)       \n",
    "        else:\n",
    "            for key in clusters_dict:\n",
    "                if t-1 in clusters_dict[key]:\n",
    "#                     print(\"\\t1.2.1. Finding points inside epsilon for already visited cluster\")\n",
    "                    c = t-1\n",
    "                    tmp = []\n",
    "                    for d in range(c,n):\n",
    "                        temp = row[d]\n",
    "                        visited = points_added[d]\n",
    "                        con = d in core_points\n",
    "                        if temp<=3.7 and con and visited == False:\n",
    "#                             print(\"\\t\\t1.2.2. For\",t-1,\"visited status -\",visited,\"- Point row[\",d,\"] - \", temp,\"is inside epsilon - 3.7\")\n",
    "                            tmp.append(d)\n",
    "                            points_added[d] = True\n",
    "#                             print(\"\\t\\t1.2.3. Added point\",d,\"with visited status -\",points_added[d],\" to cluster list for point-\",t-1)\n",
    "#                             print(\"\\t\\t1.2.4. Total cluster list till now -\",tmp)\n",
    "                        else:\n",
    "                            pass\n",
    "                    if len(tmp) != 0:\n",
    "                        tmp_old = clusters_dict[key]\n",
    "#                         print(\"\\t1.2.5. Extended cluster -\",key,\" with current core points -\",tmp_old)\n",
    "                        tmp_old.extend(tmp)\n",
    "#                         print(\"\\t to cluster with core points -\",tmp_old)\n",
    "                        clusters_dict[key] = tmp_old\n",
    "    t += 1    \n",
    "#     print(\"**************************************************************************************************************\")\n",
    "#     print(\"--------------------------------------------------------------------------------------------------------------\\n\\n\")"
   ]
  },
  {
   "cell_type": "code",
   "execution_count": null,
   "metadata": {
    "collapsed": true
   },
   "outputs": [],
   "source": []
  },
  {
   "cell_type": "code",
   "execution_count": null,
   "metadata": {
    "collapsed": true
   },
   "outputs": [],
   "source": [
    "# next_core_point = find_next_unvisited_core_point(current_core_point,points_added,core_points)\n",
    "    \n",
    "# def find_next_unvisited_core_point(current_point,points_added,core_points):\n",
    "#     next_core_point = binary_search(core_points)+1\n",
    "#     visited = points_added[next_core_point]\n",
    "#     if visited == False:\n",
    "#         return next_core_point\n",
    "#     else:\n",
    "#         find_next_unvisited_core_point(next_core_point,points_added,core_points)"
   ]
  },
  {
   "cell_type": "code",
   "execution_count": 1,
   "metadata": {},
   "outputs": [],
   "source": [
    "# cluster_dictionary = {}\n",
    "# c = 0\n",
    "# for cp in core_points:\n",
    "#     visited = points_added[cp] \n",
    "#     if visited == False:\n",
    "#         cluster_points = find_connected_core_points(list(),points_added,cp,3.5)\n",
    "#         cluster_dictionary[c] = cluster_points\n",
    "#         c += 1\n",
    "#     else:\n",
    "#         pass"
   ]
  },
  {
   "cell_type": "code",
   "execution_count": 44,
   "metadata": {
    "collapsed": true
   },
   "outputs": [],
   "source": [
    "# def find_connected_core_points(connected_core_points,points_added,current_core_point,eps):\n",
    "#     print(type(current_core_point))\n",
    "#     points_to_explore = tmp_dm[current_core_point]\n",
    "#     count = current_core_point+1\n",
    "#     connected_core_points.append(current_core_point)\n",
    "#     for point in points_to_explore[current_core_point+1:]:\n",
    "#         if count in core_points:\n",
    "#             visited = points_added[count]\n",
    "#             if point<=eps and visited == False:\n",
    "#                 connected_core_points.append(count)\n",
    "#                 points_added[count] = True\n",
    "#                 connected_core_points.extend(find_connected_core_points(connected_core_points,points_added,count,eps))\n",
    "#     return connected_core_points"
   ]
  },
  {
   "cell_type": "code",
   "execution_count": 41,
   "metadata": {},
   "outputs": [
    {
     "data": {
      "text/plain": [
       "10"
      ]
     },
     "execution_count": 41,
     "metadata": {},
     "output_type": "execute_result"
    }
   ],
   "source": [
    "len(clusters_dict)"
   ]
  },
  {
   "cell_type": "code",
   "execution_count": 55,
   "metadata": {},
   "outputs": [
    {
     "name": "stdout",
     "output_type": "stream",
     "text": [
      "key - cluster0  & data points - 745\n",
      "key - cluster1  & data points - 442\n",
      "key - cluster7  & data points - 2835\n",
      "key - cluster11  & data points - 276\n",
      "key - cluster57  & data points - 100\n",
      "key - cluster129  & data points - 78\n",
      "key - cluster3417  & data points - 171\n",
      "key - cluster3422  & data points - 26\n",
      "key - cluster3460  & data points - 28\n",
      "key - cluster7174  & data points - 36\n",
      "Total - 4737\n"
     ]
    }
   ],
   "source": [
    "total = 0\n",
    "for key in clusters_dict:\n",
    "    print(\"key -\",key,\" & data points -\",len(clusters_dict[key]))\n",
    "    total += len(clusters_dict[key])\n",
    "\n",
    "print(\"Total -\", total)"
   ]
  },
  {
   "cell_type": "code",
   "execution_count": 45,
   "metadata": {
    "collapsed": true
   },
   "outputs": [],
   "source": [
    "tmp2 = deepcopy(tmp_clusters_dict)\n",
    "tmp3 = deepcopy(tmp_clusters_dict)"
   ]
  },
  {
   "cell_type": "code",
   "execution_count": 54,
   "metadata": {
    "collapsed": true
   },
   "outputs": [],
   "source": [
    "clusters_dict = deepcopy(tmp2)"
   ]
  },
  {
   "cell_type": "code",
   "execution_count": 58,
   "metadata": {},
   "outputs": [
    {
     "name": "stdout",
     "output_type": "stream",
     "text": [
      "key - cluster0  & data points - 745\n",
      "key - cluster1  & data points - 442\n",
      "key - cluster7  & data points - 2835\n",
      "key - cluster11  & data points - 276\n",
      "key - cluster57  & data points - 100\n",
      "key - cluster129  & data points - 78\n",
      "key - cluster3417  & data points - 171\n",
      "key - cluster3422  & data points - 26\n",
      "key - cluster3460  & data points - 28\n",
      "key - cluster7174  & data points - 36\n",
      "Total - 4737\n"
     ]
    }
   ],
   "source": [
    "tmp_clusters_dict = clusters_dict\n",
    "tmp_points_added = points_added\n",
    "total = 0\n",
    "for key in tmp_clusters_dict:\n",
    "    print(\"key -\",key,\" & data points -\",len(tmp_clusters_dict[key]))\n",
    "    total += len(tmp_clusters_dict[key])\n",
    "\n",
    "print(\"Total -\", total)"
   ]
  },
  {
   "cell_type": "code",
   "execution_count": 59,
   "metadata": {
    "collapsed": true
   },
   "outputs": [],
   "source": [
    "# len(clusters_dict['cluster0'])"
   ]
  },
  {
   "cell_type": "code",
   "execution_count": 60,
   "metadata": {
    "collapsed": true
   },
   "outputs": [],
   "source": [
    "nv = 0\n",
    "c = 0\n",
    "for row in tmp_dm:\n",
    "    if points_added[c] == False:\n",
    "        for d in range(0,n):\n",
    "            if d != c:\n",
    "                dis = row[d]\n",
    "                if points_added[d] == True and dis <= 3.7:\n",
    "                    for key in clusters_dict:\n",
    "                        cls_list = clusters_dict[key]\n",
    "#                         print(type(clusters_dict[key]))\n",
    "                        cond = d in clusters_dict[key]\n",
    "                        if cond:\n",
    "                            cls_list.append(c)\n",
    "                            clusters_dict[key] = cls_list\n",
    "                            nv += 1\n",
    "                            points_added[c] = True\n",
    "                        break\n",
    "                    break\n",
    "    c += 1"
   ]
  },
  {
   "cell_type": "code",
   "execution_count": 61,
   "metadata": {},
   "outputs": [
    {
     "name": "stdout",
     "output_type": "stream",
     "text": [
      "key - cluster0  & data points - 745\n",
      "key - cluster1  & data points - 442\n",
      "key - cluster7  & data points - 2835\n",
      "key - cluster11  & data points - 276\n",
      "key - cluster57  & data points - 100\n",
      "key - cluster129  & data points - 78\n",
      "key - cluster3417  & data points - 171\n",
      "key - cluster3422  & data points - 26\n",
      "key - cluster3460  & data points - 28\n",
      "key - cluster7174  & data points - 36\n",
      "Total - 4737\n"
     ]
    }
   ],
   "source": [
    "total = 0\n",
    "for key in clusters_dict:\n",
    "    print(\"key -\",key,\" & data points -\",len(set(clusters_dict[key])))\n",
    "    total += len(set(clusters_dict[key]))\n",
    "\n",
    "print(\"Total -\", total)"
   ]
  },
  {
   "cell_type": "code",
   "execution_count": 111,
   "metadata": {},
   "outputs": [
    {
     "data": {
      "text/plain": [
       "int"
      ]
     },
     "execution_count": 111,
     "metadata": {},
     "output_type": "execute_result"
    }
   ],
   "source": [
    "type((clusters_dict['cluster0'])[0])"
   ]
  },
  {
   "cell_type": "code",
   "execution_count": 119,
   "metadata": {
    "collapsed": true
   },
   "outputs": [],
   "source": [
    "# for key in clusters_dict:\n",
    "# #     print(key)\n",
    "#     for d in clusters_dict[key]:\n",
    "# #         print(type(d))\n",
    "#         points_added[d] = True"
   ]
  },
  {
   "cell_type": "code",
   "execution_count": 51,
   "metadata": {},
   "outputs": [
    {
     "name": "stdout",
     "output_type": "stream",
     "text": [
      "2684\n"
     ]
    }
   ],
   "source": [
    "c = 0\n",
    "for pa in points_added:\n",
    "    if pa == False:\n",
    "        c += 1\n",
    "# print(total+nv)\n",
    "print(c)"
   ]
  },
  {
   "cell_type": "code",
   "execution_count": 52,
   "metadata": {
    "collapsed": true
   },
   "outputs": [],
   "source": [
    "nv = 0\n",
    "c = 0\n",
    "for row in tmp_dm:\n",
    "    if points_added[c] == False:\n",
    "        for d in range(0,n):\n",
    "            if d != c:\n",
    "                dis = row[d]\n",
    "                if points_added[d] == True:\n",
    "                    for key in clusters_dict:\n",
    "                        cls_list = clusters_dict[key]\n",
    "#                         print(type(clusters_dict[key]))\n",
    "                        cond = d in clusters_dict[key]\n",
    "                        if cond:\n",
    "                            cls_list.append(c)\n",
    "                            clusters_dict[key] = cls_list\n",
    "                            nv += 1\n",
    "                        break\n",
    "                    break\n",
    "    c += 1"
   ]
  },
  {
   "cell_type": "code",
   "execution_count": 53,
   "metadata": {},
   "outputs": [
    {
     "name": "stdout",
     "output_type": "stream",
     "text": [
      "key - cluster0  & data points - 4597\n",
      "key - cluster1  & data points - 442\n",
      "key - cluster7  & data points - 2835\n",
      "key - cluster11  & data points - 276\n",
      "key - cluster57  & data points - 100\n",
      "key - cluster129  & data points - 78\n",
      "key - cluster3417  & data points - 171\n",
      "key - cluster3422  & data points - 26\n",
      "key - cluster3460  & data points - 28\n",
      "key - cluster7174  & data points - 36\n",
      "Total - 8589\n"
     ]
    }
   ],
   "source": [
    "total = 0\n",
    "for key in clusters_dict:\n",
    "    print(\"key -\",key,\" & data points -\",len(set(clusters_dict[key])))\n",
    "    total += len(set(clusters_dict[key]))\n",
    "\n",
    "print(\"Total -\", total)"
   ]
  },
  {
   "cell_type": "code",
   "execution_count": 62,
   "metadata": {
    "collapsed": true
   },
   "outputs": [],
   "source": [
    "c = 1\n",
    "clustering = []\n",
    "for i in range(0,8580):\n",
    "    clustering.append(0)\n",
    "for key in clusters_dict:\n",
    "    for d in clusters_dict[key]:\n",
    "        clustering[d] = c\n",
    "    c += 1    \n",
    "with open('clustering1.dat','w+') as file:\n",
    "    for i in clustering:\n",
    "        file.write(str(i)+\"\\n\")"
   ]
  }
 ],
 "metadata": {
  "kernelspec": {
   "display_name": "Python 2",
   "language": "python",
   "name": "python2"
  },
  "language_info": {
   "codemirror_mode": {
    "name": "ipython",
    "version": 2
   },
   "file_extension": ".py",
   "mimetype": "text/x-python",
   "name": "python",
   "nbconvert_exporter": "python",
   "pygments_lexer": "ipython2",
   "version": "2.7.14"
  }
 },
 "nbformat": 4,
 "nbformat_minor": 2
}
